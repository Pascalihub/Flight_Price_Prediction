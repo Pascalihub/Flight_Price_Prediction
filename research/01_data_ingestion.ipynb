{
 "cells": [
  {
   "cell_type": "code",
   "execution_count": 1,
   "id": "ac310c2d",
   "metadata": {},
   "outputs": [],
   "source": [
    "import os\n"
   ]
  },
  {
   "cell_type": "code",
   "execution_count": 2,
   "id": "2bca26e2",
   "metadata": {},
   "outputs": [
    {
     "data": {
      "text/plain": [
       "'c:\\\\Users\\\\PASCAL\\\\flight_price_prediction\\\\research'"
      ]
     },
     "execution_count": 2,
     "metadata": {},
     "output_type": "execute_result"
    }
   ],
   "source": [
    "%pwd"
   ]
  },
  {
   "cell_type": "code",
   "execution_count": 3,
   "id": "6e7ac708",
   "metadata": {},
   "outputs": [],
   "source": [
    "os.chdir(\"../\")"
   ]
  },
  {
   "cell_type": "code",
   "execution_count": 4,
   "id": "bbb4761b",
   "metadata": {},
   "outputs": [
    {
     "data": {
      "text/plain": [
       "'c:\\\\Users\\\\PASCAL\\\\flight_price_prediction'"
      ]
     },
     "execution_count": 4,
     "metadata": {},
     "output_type": "execute_result"
    }
   ],
   "source": [
    "%pwd"
   ]
  },
  {
   "cell_type": "code",
   "execution_count": 77,
   "id": "874b882a",
   "metadata": {},
   "outputs": [],
   "source": [
    "from dataclasses import dataclass\n",
    "from pathlib import Path\n",
    "\n",
    "@dataclass(frozen=True)\n",
    "class DataIngestionConfig:\n",
    "    root_dir: Path\n",
    "    source_URL: str\n",
    "    local_data_file: Path\n",
    "    unzip_dir: Path\n",
    "    '''split_data: Path\n",
    "    train_data_path: Path\n",
    "    test_data_path: Path'''\n",
    "    '''raw_data_path: Path'''"
   ]
  },
  {
   "cell_type": "code",
   "execution_count": 61,
   "id": "24d6a5c3",
   "metadata": {},
   "outputs": [],
   "source": [
    "from src.flightprice.constants import *\n",
    "from src.flightprice.utils.common import read_yaml, create_directories"
   ]
  },
  {
   "cell_type": "code",
   "execution_count": 78,
   "id": "44c24ccf",
   "metadata": {},
   "outputs": [],
   "source": [
    "class ConfigurationManager:\n",
    "    def __init__(\n",
    "        self,\n",
    "        config_filepath = CONFIG_FILE_PATH,\n",
    "        params_filepath = PARAMS_FILE_PATH):\n",
    "\n",
    "        self.config = read_yaml(config_filepath)\n",
    "        self.params = read_yaml(params_filepath)\n",
    "\n",
    "        create_directories([self.config.artifacts_root])\n",
    "\n",
    "    \n",
    "\n",
    "    def get_data_ingestion_config(self) -> DataIngestionConfig:\n",
    "        config = self.config.data_ingestion\n",
    "\n",
    "        create_directories([config.root_dir])\n",
    "\n",
    "        data_ingestion_config = DataIngestionConfig(\n",
    "        root_dir=config.root_dir,\n",
    "        source_URL=config.source_URL,\n",
    "        local_data_file=config.local_data_file,\n",
    "        unzip_dir=config.unzip_dir,\n",
    "        \n",
    "    )\n",
    "\n",
    "        return data_ingestion_config\n",
    "\n",
    "\n",
    "    '''data_ingestion_config = DataIngestionConfig(\n",
    "    root_dir=config.root_dir,\n",
    "    source_URL=config.source_URL,\n",
    "    local_data_file=config.local_data_file,\n",
    "    unzip_dir=config.unzip_dir,\n",
    "    train_data_path=config.train_data_path,\n",
    "    test_data_path=config.test_data_path,\n",
    "    )'''   "
   ]
  },
  {
   "cell_type": "code",
   "execution_count": 71,
   "id": "1f732d0c",
   "metadata": {},
   "outputs": [],
   "source": [
    "import os\n",
    "import urllib.request as request\n",
    "import zipfile\n",
    "from src.flightprice.logger import logging\n",
    "from src.flightprice.utils.common import get_size\n",
    "from sklearn.model_selection import train_test_split\n",
    "from dataclasses import dataclass\n",
    "from src.flightprice.logger import logging\n",
    "from sklearn.model_selection import train_test_split\n",
    "import pandas as pd\n",
    "import requests\n",
    "import urllib\n",
    "import sys"
   ]
  },
  {
   "cell_type": "code",
   "execution_count": 79,
   "id": "3744edc3",
   "metadata": {},
   "outputs": [],
   "source": [
    "class DataIngestion:\n",
    "    def __init__(self, data_ingestion_config):\n",
    "        self.config = data_ingestion_config\n",
    "\n",
    "    def download_file(self):\n",
    "        if not os.path.exists(self.config.local_data_file):\n",
    "            filename, headers = urllib.request.urlretrieve(\n",
    "                url=self.config.source_URL,\n",
    "                filename=self.config.local_data_file\n",
    "            )\n",
    "            print(f\"{filename} downloaded with the following info:\\n{headers}\")\n",
    "        else:\n",
    "            print(f\"File already exists of size: {os.path.getsize(self.config.local_data_file)}\")\n",
    "\n",
    "    def extract_zip_file(self):\n",
    "        unzip_path = self.config.unzip_dir\n",
    "        os.makedirs(unzip_path, exist_ok=True)\n",
    "        with zipfile.ZipFile(self.config.local_data_file, 'r') as zip_ref:\n",
    "            zip_ref.extractall(unzip_path)\n",
    "\n",
    "    '''def split_data(self, test_size=0.2, random_state=42):\n",
    "        data_files = os.listdir(self.config.unzip_dir)\n",
    "        train_files, test_files = train_test_split(data_files, test_size=test_size, random_state=random_state)\n",
    "\n",
    "        train_data_path = self.config.train_data_path\n",
    "        test_data_path = self.config.test_data_path\n",
    "\n",
    "        os.makedirs(train_data_path, exist_ok=True)\n",
    "        os.makedirs(test_data_path, exist_ok=True)\n",
    "\n",
    "        for file_name in train_files:\n",
    "            source_path = os.path.join(self.config.unzip_dir, file_name)\n",
    "            destination_path = os.path.join(train_data_path, file_name)\n",
    "            os.rename(source_path, destination_path)\n",
    "\n",
    "        for file_name in test_files:\n",
    "            source_path = os.path.join(self.config.unzip_dir, file_name)\n",
    "            destination_path = os.path.join(test_data_path, file_name)\n",
    "            os.rename(source_path, destination_path)\n",
    "\n",
    "        print(\"Data split into train and test datasets.\")'''"
   ]
  },
  {
   "cell_type": "code",
   "execution_count": 80,
   "id": "957e5292",
   "metadata": {},
   "outputs": [
    {
     "name": "stdout",
     "output_type": "stream",
     "text": [
      "[2023-07-01 04:46:39,348: INFO: common: yaml file: config\\config.yaml loaded successfully]\n",
      "[2023-07-01 04:46:39,351: INFO: common: yaml file: params.yaml loaded successfully]\n",
      "[2023-07-01 04:46:39,352: INFO: common: created directory at: artifacts]\n",
      "[2023-07-01 04:46:39,354: INFO: common: created directory at: artifacts/data_ingestion]\n",
      "File already exists of size: 199458\n"
     ]
    }
   ],
   "source": [
    "try:\n",
    "    config = ConfigurationManager()\n",
    "    data_ingestion_config = config.get_data_ingestion_config()\n",
    "    data_ingestion = DataIngestion(data_ingestion_config=data_ingestion_config)\n",
    "    data_ingestion.download_file()\n",
    "    data_ingestion.extract_zip_file()\n",
    "    '''data_ingestion.split_data()'''\n",
    "except Exception as e:\n",
    "    raise e"
   ]
  },
  {
   "cell_type": "code",
   "execution_count": null,
   "id": "3c2eb377",
   "metadata": {},
   "outputs": [],
   "source": []
  }
 ],
 "metadata": {
  "kernelspec": {
   "display_name": "Python 3 (ipykernel)",
   "language": "python",
   "name": "python3"
  },
  "language_info": {
   "codemirror_mode": {
    "name": "ipython",
    "version": 3
   },
   "file_extension": ".py",
   "mimetype": "text/x-python",
   "name": "python",
   "nbconvert_exporter": "python",
   "pygments_lexer": "ipython3",
   "version": "3.9.0"
  }
 },
 "nbformat": 4,
 "nbformat_minor": 5
}

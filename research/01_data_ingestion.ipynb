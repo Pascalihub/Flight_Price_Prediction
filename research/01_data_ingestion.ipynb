{
 "cells": [
  {
   "cell_type": "code",
   "execution_count": 1,
   "id": "ac310c2d",
   "metadata": {},
   "outputs": [],
   "source": [
    "import os\n"
   ]
  },
  {
   "cell_type": "code",
   "execution_count": 2,
   "id": "2bca26e2",
   "metadata": {},
   "outputs": [
    {
     "data": {
      "text/plain": [
       "'c:\\\\Users\\\\PASCAL\\\\flight_price_prediction\\\\research'"
      ]
     },
     "execution_count": 2,
     "metadata": {},
     "output_type": "execute_result"
    }
   ],
   "source": [
    "%pwd"
   ]
  },
  {
   "cell_type": "code",
   "execution_count": 3,
   "id": "6e7ac708",
   "metadata": {},
   "outputs": [],
   "source": [
    "os.chdir(\"../\")"
   ]
  },
  {
   "cell_type": "code",
   "execution_count": 4,
   "id": "bbb4761b",
   "metadata": {},
   "outputs": [
    {
     "data": {
      "text/plain": [
       "'c:\\\\Users\\\\PASCAL\\\\flight_price_prediction'"
      ]
     },
     "execution_count": 4,
     "metadata": {},
     "output_type": "execute_result"
    }
   ],
   "source": [
    "%pwd"
   ]
  },
  {
   "cell_type": "code",
   "execution_count": 5,
   "id": "874b882a",
   "metadata": {},
   "outputs": [],
   "source": [
    "from dataclasses import dataclass\n",
    "from pathlib import Path\n",
    "\n",
    "@dataclass(frozen=True)\n",
    "class DataIngestionConfig:\n",
    "    root_dir: Path\n",
    "    source_URL: str\n",
    "    local_data_file: Path\n",
    "    unzip_dir: Path\n",
    "    "
   ]
  },
  {
   "cell_type": "code",
   "execution_count": 6,
   "id": "24d6a5c3",
   "metadata": {},
   "outputs": [],
   "source": [
    "from src.flightprice.constants import *\n",
    "from src.flightprice.utils.common import read_yaml, create_directories"
   ]
  },
  {
   "cell_type": "code",
   "execution_count": 8,
   "id": "44c24ccf",
   "metadata": {},
   "outputs": [],
   "source": [
    "class ConfigurationManager:\n",
    "    def __init__(\n",
    "        self,\n",
    "        config_filepath = CONFIG_FILE_PATH,\n",
    "        params_filepath = PARAMS_FILE_PATH):\n",
    "\n",
    "        self.config = read_yaml(config_filepath)\n",
    "        self.params = read_yaml(params_filepath)\n",
    "\n",
    "        create_directories([self.config.artifacts_root])\n",
    "\n",
    "    \n",
    "\n",
    "    def get_data_ingestion_config(self) -> DataIngestionConfig:\n",
    "        config = self.config.data_ingestion\n",
    "\n",
    "        create_directories([config.root_dir])\n",
    "\n",
    "        data_ingestion_config = DataIngestionConfig(\n",
    "        root_dir=config.root_dir,\n",
    "        source_URL=config.source_URL,\n",
    "        local_data_file=config.local_data_file,\n",
    "        unzip_dir=config.unzip_dir\n",
    "        \n",
    "    )\n",
    "\n",
    "        return data_ingestion_config\n",
    " "
   ]
  },
  {
   "cell_type": "code",
   "execution_count": 9,
   "id": "1f732d0c",
   "metadata": {},
   "outputs": [],
   "source": [
    "import os\n",
    "import urllib.request as request\n",
    "import zipfile\n",
    "from src.flightprice.logger import logging\n",
    "from src.flightprice.utils.common import get_size\n",
    "from sklearn.model_selection import train_test_split\n",
    "from dataclasses import dataclass\n",
    "from src.flightprice.logger import logging\n",
    "from sklearn.model_selection import train_test_split\n",
    "import pandas as pd\n",
    "import requests\n",
    "import urllib\n",
    "import sys"
   ]
  },
  {
   "cell_type": "code",
   "execution_count": 10,
   "id": "194bbe33",
   "metadata": {},
   "outputs": [],
   "source": [
    "\n",
    "\n",
    "class DataIngestion:\n",
    "    def __init__(self, data_ingestion_config):\n",
    "        self.config = data_ingestion_config\n",
    "\n",
    "    def download_file(self):\n",
    "        if not os.path.exists(self.config.local_data_file):\n",
    "            filename, headers = urllib.request.urlretrieve(\n",
    "                url=self.config.source_URL,\n",
    "                filename=self.config.local_data_file\n",
    "            )\n",
    "            print(f\"{filename} downloaded with the following info:\\n{headers}\")\n",
    "        else:\n",
    "            print(f\"File already exists of size: {os.path.getsize(self.config.local_data_file)}\")\n",
    "\n",
    "    def extract_zip_file(self):\n",
    "        unzip_path = self.config.unzip_dir\n",
    "        os.makedirs(unzip_path, exist_ok=True)\n",
    "        with zipfile.ZipFile(self.config.local_data_file, 'r') as zip_ref:\n",
    "            zip_ref.extractall(unzip_path)\n",
    "\n",
    "    def ingest_data(self):\n",
    "        logging.info(\"Ingestion of the data is initiated\")\n",
    "\n",
    "        raw_data_path = os.path.join(self.config.unzip_dir, \"raw_data.csv\")\n",
    "        train_data_path = os.path.join(self.config.unzip_dir, \"train_data.csv\")\n",
    "        test_data_path = os.path.join(self.config.unzip_dir, \"test_data.csv\")\n",
    "\n",
    "        data_files = os.listdir(self.config.unzip_dir)\n",
    "        csv_files = [file_name for file_name in data_files if file_name.endswith(\".csv\")]\n",
    "\n",
    "        if len(csv_files) == 0:\n",
    "            raise ValueError(\"No CSV files found in the unzip directory.\")\n",
    "\n",
    "        df = None\n",
    "        for file_name in csv_files:\n",
    "            file_path = os.path.join(self.config.unzip_dir, file_name)\n",
    "            if df is None:\n",
    "                df = pd.read_csv(file_path)\n",
    "            else:\n",
    "                df = pd.concat([df, pd.read_csv(file_path)], ignore_index=True)\n",
    "\n",
    "        # Save the raw data\n",
    "        df.to_csv(raw_data_path, index=False, header=True)\n",
    "\n",
    "        # Train test split\n",
    "        train_set, test_set = train_test_split(df, test_size=0.2, random_state=42)\n",
    "\n",
    "        # Save the train and test data\n",
    "        train_set.to_csv(train_data_path, index=False, header=True)\n",
    "        test_set.to_csv(test_data_path, index=False, header=True)\n",
    "\n",
    "        logging.info(\"Ingestion of the data is completed\")\n",
    "\n",
    "        return train_data_path, test_data_path\n",
    "\n"
   ]
  },
  {
   "cell_type": "code",
   "execution_count": 11,
   "id": "6f6d3966",
   "metadata": {},
   "outputs": [
    {
     "name": "stdout",
     "output_type": "stream",
     "text": [
      "[2023-07-16 03:56:30,821: INFO: common: yaml file: config\\config.yaml loaded successfully]\n",
      "[2023-07-16 03:56:30,824: INFO: common: yaml file: params.yaml loaded successfully]\n",
      "[2023-07-16 03:56:30,826: INFO: common: created directory at: artifacts]\n",
      "[2023-07-16 03:56:30,829: INFO: common: created directory at: artifacts/data_ingestion]\n"
     ]
    },
    {
     "name": "stdout",
     "output_type": "stream",
     "text": [
      "artifacts/data_ingestion/data.zip downloaded with the following info:\n",
      "Connection: close\n",
      "Content-Length: 117805\n",
      "Cache-Control: max-age=300\n",
      "Content-Security-Policy: default-src 'none'; style-src 'unsafe-inline'; sandbox\n",
      "Content-Type: application/zip\n",
      "ETag: \"dc685b47036210fd4b4ff46f7f0ddc35bcbd54143e11c59cdbd4fe3d47169b13\"\n",
      "Strict-Transport-Security: max-age=31536000\n",
      "X-Content-Type-Options: nosniff\n",
      "X-Frame-Options: deny\n",
      "X-XSS-Protection: 1; mode=block\n",
      "X-GitHub-Request-Id: 8D38:FA0B:1314BEC:13E2875:64B3CCDD\n",
      "Accept-Ranges: bytes\n",
      "Date: Sun, 16 Jul 2023 10:56:29 GMT\n",
      "Via: 1.1 varnish\n",
      "X-Served-By: cache-ams21038-AMS\n",
      "X-Cache: MISS\n",
      "X-Cache-Hits: 0\n",
      "X-Timer: S1689504990.640669,VS0,VE186\n",
      "Vary: Authorization,Accept-Encoding,Origin\n",
      "Access-Control-Allow-Origin: *\n",
      "Cross-Origin-Resource-Policy: cross-origin\n",
      "X-Fastly-Request-ID: 7df499c4ff52cb81e692423f048e5d744c5d16b6\n",
      "Expires: Sun, 16 Jul 2023 11:01:29 GMT\n",
      "Source-Age: 0\n",
      "\n",
      "\n",
      "[2023-07-16 03:56:32,927: INFO: 1643098587: Ingestion of the data is initiated]\n",
      "[2023-07-16 03:56:33,365: INFO: 1643098587: Ingestion of the data is completed]\n"
     ]
    }
   ],
   "source": [
    "try:\n",
    "    config = ConfigurationManager()\n",
    "    data_ingestion_config = config.get_data_ingestion_config()\n",
    "    data_ingestion = DataIngestion(data_ingestion_config)\n",
    "    data_ingestion.download_file()\n",
    "    data_ingestion.extract_zip_file()\n",
    "    train_data_path, test_data_path = data_ingestion.ingest_data()\n",
    "except Exception as e:\n",
    "    raise e"
   ]
  },
  {
   "cell_type": "code",
   "execution_count": null,
   "id": "3c2eb377",
   "metadata": {},
   "outputs": [],
   "source": []
  }
 ],
 "metadata": {
  "kernelspec": {
   "display_name": "Python 3 (ipykernel)",
   "language": "python",
   "name": "python3"
  },
  "language_info": {
   "codemirror_mode": {
    "name": "ipython",
    "version": 3
   },
   "file_extension": ".py",
   "mimetype": "text/x-python",
   "name": "python",
   "nbconvert_exporter": "python",
   "pygments_lexer": "ipython3",
   "version": "3.9.0"
  }
 },
 "nbformat": 4,
 "nbformat_minor": 5
}

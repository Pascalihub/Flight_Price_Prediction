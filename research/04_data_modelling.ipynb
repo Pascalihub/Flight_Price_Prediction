{
 "cells": [
  {
   "cell_type": "code",
   "execution_count": 1,
   "id": "d213762e",
   "metadata": {},
   "outputs": [],
   "source": [
    "import os"
   ]
  },
  {
   "cell_type": "code",
   "execution_count": 2,
   "id": "854f904f",
   "metadata": {},
   "outputs": [
    {
     "data": {
      "text/plain": [
       "'c:\\\\Users\\\\PASCAL\\\\flight_price_prediction\\\\research'"
      ]
     },
     "execution_count": 2,
     "metadata": {},
     "output_type": "execute_result"
    }
   ],
   "source": [
    "%pwd"
   ]
  },
  {
   "cell_type": "code",
   "execution_count": 3,
   "id": "7de81af7",
   "metadata": {},
   "outputs": [],
   "source": [
    "os.chdir(\"../\")"
   ]
  },
  {
   "cell_type": "code",
   "execution_count": 4,
   "id": "b3926368",
   "metadata": {},
   "outputs": [
    {
     "data": {
      "text/plain": [
       "'c:\\\\Users\\\\PASCAL\\\\flight_price_prediction'"
      ]
     },
     "execution_count": 4,
     "metadata": {},
     "output_type": "execute_result"
    }
   ],
   "source": [
    "%pwd"
   ]
  },
  {
   "cell_type": "code",
   "execution_count": 5,
   "id": "cce0a76f",
   "metadata": {},
   "outputs": [],
   "source": [
    "from dataclasses import dataclass\n",
    "from pathlib import Path\n",
    "\n",
    "@dataclass(frozen=True)\n",
    "class ModelTrainerConfig:\n",
    "    root_dir: Path\n",
    "    data_path: Path\n",
    "    model_path: Path\n",
    "    ## model_file_path: Path\n",
    "    "
   ]
  },
  {
   "cell_type": "code",
   "execution_count": 6,
   "id": "c60cc2b9",
   "metadata": {},
   "outputs": [],
   "source": [
    "from src.flightprice.constants import *\n",
    "from src.flightprice.utils.common import read_yaml, create_directories"
   ]
  },
  {
   "cell_type": "code",
   "execution_count": 7,
   "id": "aaa37ffa",
   "metadata": {},
   "outputs": [],
   "source": [
    "class ConfigurationManager:\n",
    "    def __init__(\n",
    "        self,\n",
    "        config_filepath = CONFIG_FILE_PATH,\n",
    "        params_filepath = PARAMS_FILE_PATH):\n",
    "\n",
    "        self.config = read_yaml(config_filepath)\n",
    "        self.params = read_yaml(params_filepath)\n",
    "\n",
    "        create_directories([self.config.artifacts_root])\n",
    "\n",
    "    def get_model_trainer_config(self) -> ModelTrainerConfig:\n",
    "        config = self.config.model_trainer\n",
    "\n",
    "        create_directories([config.root_dir])\n",
    "\n",
    "        model_trainer_config = ModelTrainerConfig(\n",
    "        root_dir=config.root_dir,\n",
    "        data_path=config.data_path,\n",
    "        model_path=config.model_path\n",
    "        ## model_file_path=config.model_file_path\n",
    "    )\n",
    "        return model_trainer_config"
   ]
  },
  {
   "cell_type": "code",
   "execution_count": 8,
   "id": "da27b056",
   "metadata": {},
   "outputs": [],
   "source": [
    "# Basic Import\n",
    "import numpy as np\n",
    "import pandas as pd\n",
    "\n",
    "import os\n",
    "import sys\n",
    "from dataclasses import dataclass\n",
    "\n",
    "# Modelling\n",
    "from sklearn.neighbors import KNeighborsRegressor\n",
    "from sklearn.tree import DecisionTreeRegressor\n",
    "from sklearn.ensemble import RandomForestRegressor,AdaBoostRegressor, GradientBoostingRegressor\n",
    "from sklearn.svm import SVR\n",
    "from sklearn.linear_model import LinearRegression, Ridge,Lasso\n",
    "from sklearn.model_selection import RandomizedSearchCV, GridSearchCV\n",
    "from catboost import CatBoostRegressor\n",
    "from xgboost import XGBRegressor\n",
    "from sklearn.ensemble import VotingRegressor\n",
    "from sklearn.metrics import r2_score, mean_absolute_error, mean_squared_error\n",
    "from src.flightprice.logger import logging\n",
    "from src.flightprice.components.data_transformation import DataTransformation\n",
    "from src.flightprice.utils.common import evaluate_models\n",
    "from src.flightprice.utils.common import print_evaluated_results\n",
    "from src.flightprice.utils.common import model_metrics\n",
    "from src.flightprice.utils.common import save_object\n",
    "from src.flightprice.components.data_transformation import DataTransformation\n",
    "import pickle"
   ]
  },
  {
   "cell_type": "code",
   "execution_count": 9,
   "id": "88d7f3ef",
   "metadata": {},
   "outputs": [],
   "source": [
    "\n",
    "class ModelTrainer:\n",
    "    def __init__(self, config: ModelTrainerConfig):\n",
    "        self.config = config\n",
    "\n",
    "    def initiate_model_trainer(self, train_array, test_array):\n",
    "        try:\n",
    "            logging.info('Splitting Dependent and Independent variables from train and test data')\n",
    "            xtrain, ytrain, xtest, ytest = (\n",
    "                train_array[:,:-1],\n",
    "                train_array[:,-1],\n",
    "                test_array[:,:-1],\n",
    "                test_array[:,-1]\n",
    "            )\n",
    "            \n",
    "            models = {\n",
    "                \"Linear Regression\": LinearRegression(),\n",
    "                \"Lasso\": Lasso(),\n",
    "                \"Ridge\": Ridge(),\n",
    "                \"K-Neighbors Regressor\": KNeighborsRegressor(),\n",
    "                \"Decision Tree\": DecisionTreeRegressor(),\n",
    "                \"Random Forest Regressor\": RandomForestRegressor(),\n",
    "                \"XGBRegressor\": XGBRegressor(), \n",
    "                \"CatBoosting Regressor\": CatBoostRegressor(verbose=False),\n",
    "                \"GradientBoosting Regressor\":GradientBoostingRegressor(),\n",
    "                \"AdaBoost Regressor\": AdaBoostRegressor()\n",
    "            }\n",
    "\n",
    "            model_report:dict = evaluate_models(xtrain,ytrain,xtest,ytest,models)\n",
    "\n",
    "            print(model_report)\n",
    "            print('\\n====================================================================================\\n')\n",
    "            logging.info(f'Model Report : {model_report}')\n",
    "            # To get best model score from dictionary \n",
    "            best_model_score = max(sorted(model_report.values()))\n",
    "\n",
    "            best_model_name = list(model_report.keys())[\n",
    "                list(model_report.values()).index(best_model_score)\n",
    "            ]\n",
    "            best_model = models[best_model_name]\n",
    "\n",
    "            if best_model_score < 0.6 :\n",
    "                logging.info('Best model has r2 Score less than 60%')\n",
    "                raise Exception('No Best Model Found')\n",
    "            \n",
    "            # Save model object\n",
    "            model_file_path = os.path.join(\"artifacts\", \"model_trainer\", \"model.pkl\")\n",
    "            with open(model_file_path, \"wb\") as file:\n",
    "                pickle.dump(best_model, file)\n",
    "\n",
    "            print(f'Best Model Found , Model Name : {best_model_name} , R2 Score : {best_model_score}')\n",
    "            print('\\n====================================================================================\\n')\n",
    "            logging.info(f'Best Model Found , Model Name : {best_model_name} , R2 Score : {best_model_score}')\n",
    "            logging.info('Hyperparameter tuning started for catboost')\n",
    "\n",
    "            # Hyperparameter tuning on Catboost\n",
    "            # Initializing catboost\n",
    "            cbr = CatBoostRegressor(verbose=False)\n",
    "\n",
    "            # Creating the hyperparameter grid\n",
    "            param_dist = {'depth'          : [4,5,6,7,8,9, 10],\n",
    "                          'learning_rate' : [0.01,0.02,0.03,0.04],\n",
    "                          'iterations'    : [300,400,500,600]}\n",
    "\n",
    "            #Instantiate RandomSearchCV object\n",
    "            rscv = RandomizedSearchCV(cbr , param_dist, scoring='r2', cv =5, n_jobs=-1)\n",
    "\n",
    "            # Fit the model\n",
    "            rscv.fit(xtrain, ytrain)\n",
    "\n",
    "            # Print the tuned parameters and score\n",
    "            print(f'Best Catboost parameters : {rscv.best_params_}')\n",
    "            print(f'Best Catboost Score : {rscv.best_score_}')\n",
    "            print('\\n====================================================================================\\n')\n",
    "\n",
    "            best_cbr = rscv.best_estimator_\n",
    "\n",
    "            logging.info('Hyperparameter tuning complete for Catboost')\n",
    "\n",
    "            logging.info('Hyperparameter tuning started for KNN')\n",
    "\n",
    "            # Initialize knn\n",
    "            knn = KNeighborsRegressor()\n",
    "\n",
    "            # parameters\n",
    "            k_range = list(range(2, 31))\n",
    "            param_grid = dict(n_neighbors=k_range)\n",
    "\n",
    "            # Fitting the cvmodel\n",
    "            grid = GridSearchCV(knn, param_grid, cv=5, scoring='r2',n_jobs=-1)\n",
    "            grid.fit(xtrain, ytrain)\n",
    "\n",
    "            # Print the tuned parameters and score\n",
    "            print(f'Best KNN Parameters : {grid.best_params_}')\n",
    "            print(f'Best KNN Score : {grid.best_score_}')\n",
    "            print('\\n====================================================================================\\n')\n",
    "\n",
    "            best_knn = grid.best_estimator_\n",
    "\n",
    "            logging.info('Hyperparameter tuning Complete for KNN')\n",
    "\n",
    "            logging.info('Voting Regressor model training started')\n",
    "\n",
    "            # Creating final Voting regressor\n",
    "            er = VotingRegressor([('cbr',best_cbr),('xgb',XGBRegressor()),('knn',best_knn)], weights=[3,2,1])\n",
    "            er.fit(xtrain, ytrain)\n",
    "            print('Final Model Evaluation :\\n')\n",
    "            print_evaluated_results(xtrain,ytrain,xtest,ytest,er)\n",
    "            logging.info('Voting Regressor Training Completed')\n",
    "\n",
    "            save_object(\n",
    "                file_path=model_file_path,\n",
    "                obj=er\n",
    "            )\n",
    "\n",
    "            logging.info('Model pickle file saved')\n",
    "            # Evaluating Ensemble Regressor (Voting Classifier on test data)\n",
    "            ytest_pred = er.predict(xtest)\n",
    "\n",
    "            mae, rmse, r2 = model_metrics(ytest, ytest_pred)\n",
    "            logging.info(f'Test MAE : {mae}')\n",
    "            logging.info(f'Test RMSE : {rmse}')\n",
    "            logging.info(f'Test R2 Score : {r2}')\n",
    "            logging.info('Final Model Training Completed')\n",
    "            \n",
    "            return mae, rmse, r2 \n",
    "        \n",
    "        except Exception as e:\n",
    "            logging.info('Exception occured at Model Training')\n",
    "            raise e"
   ]
  },
  {
   "cell_type": "code",
   "execution_count": 27,
   "id": "6260218e",
   "metadata": {},
   "outputs": [
    {
     "name": "stderr",
     "output_type": "stream",
     "text": [
      "2023-09-27 04:15:35,928 - INFO - yaml file: config\\config.yaml loaded successfully\n",
      "2023-09-27 04:15:35,935 - INFO - yaml file: params.yaml loaded successfully\n",
      "2023-09-27 04:15:35,938 - INFO - created directory at: artifacts\n",
      "2023-09-27 04:15:35,942 - INFO - created directory at: artifacts/model_trainer\n",
      "2023-09-27 04:15:35,944 - INFO - Read train and test data completed\n",
      "2023-09-27 04:15:35,947 - INFO - Obtaining preprocessing object\n"
     ]
    },
    {
     "name": "stderr",
     "output_type": "stream",
     "text": [
      "2023-09-27 04:15:36,141 - INFO - Read train and test data completed\n",
      "2023-09-27 04:15:36,156 - INFO - Train Dataframe Head : \n",
      "       Airline   Source Destination                        Route Total_Stops Additional_Info  Price  Journey_day  Journey_month  Dep_hour  Dep_min  Arrival_hour  Arrival_min  Duration_hours  Duration_mins\n",
      "0       IndiGo  Kolkata    Banglore                    CCU → BLR    non-stop         No info   4174           18              4        21       25             0            5               2             40\n",
      "1  Jet Airways    Delhi      Cochin              DEL → BOM → COK      1 stop         No info  14714           27              6         7        5            12           35               5             30\n",
      "2     Air Asia  Kolkata    Banglore              CCU → BBI → BLR      1 stop         No info   5162            9              5         6       50            10           30               3             40\n",
      "3    Air India    Delhi      Cochin  DEL → RPR → NAG → BOM → COK     3 stops         No info  10493           24              6         5       15             7           40              26             25\n",
      "4    Air India   Mumbai   Hyderabad        BOM → BHO → DEL → HYD     2 stops         No info  13904            6              3         6        0            19           25              37             25\n",
      "2023-09-27 04:15:36,166 - INFO - Test Dataframe Head  : \n",
      "             Airline   Source Destination                  Route Total_Stops              Additional_Info  Price  Journey_day  Journey_month  Dep_hour  Dep_min  Arrival_hour  Arrival_min  Duration_hours  Duration_mins\n",
      "0  Multiple carriers    Delhi      Cochin        DEL → BOM → COK      1 stop                      No info   7670           15              5         6        0            21            0              15              0\n",
      "1        Jet Airways  Kolkata    Banglore        CCU → DEL → BLR      1 stop                      No info  14151            1              5        20       25            22            5              25             40\n",
      "2             IndiGo   Mumbai   Hyderabad              BOM → HYD    non-stop                      No info   2754            1              5        19        5            20           35               1             30\n",
      "3        Jet Airways    Delhi      Cochin        DEL → BOM → COK      1 stop                      No info  14714            3              6         2       15            19            0              16             45\n",
      "4        Jet Airways    Delhi      Cochin  DEL → JDH → BOM → COK     2 stops  In-flight meal not included  15812           15              6        11       40            19            0               7             20\n",
      "2023-09-27 04:15:36,168 - INFO - Obtaining preprocessing object\n",
      "2023-09-27 04:15:36,170 - INFO - Categorical Columns : ['Airline', 'Source', 'Destination', 'Route', 'Total_Stops', 'Additional_Info']\n",
      "2023-09-27 04:15:36,172 - INFO - Numerical Columns   : ['Journey_day', 'Journey_month', 'Dep_hour', 'Dep_min', 'Arrival_hour', 'Arrival_min', 'Duration_hours', 'Duration_mins']\n",
      "2023-09-27 04:15:36,437 - INFO - Saved preprocessing object.\n",
      "2023-09-27 04:15:36,438 - INFO - Transformation of the data is completed\n",
      "2023-09-27 04:15:36,442 - INFO - Splitting Dependent and Independent variables from train and test data\n",
      "2023-09-27 04:16:16,456 - INFO - Model Report : {'Linear Regression': 0.3954290484659, 'Lasso': 0.3954498841925457, 'Ridge': 0.3954298615428563, 'K-Neighbors Regressor': 0.8541628375503538, 'Decision Tree': 0.9872829388316675, 'Random Forest Regressor': 0.983485112554469, 'XGBRegressor': 0.9670367466068637, 'CatBoosting Regressor': 0.9537768722732313, 'GradientBoosting Regressor': 0.8302342163747802, 'AdaBoost Regressor': 0.2731788657871862}\n",
      "2023-09-27 04:16:16,461 - INFO - Best Model Found , Model Name : Decision Tree , R2 Score : 0.9872829388316675\n",
      "2023-09-27 04:16:16,462 - INFO - Hyperparameter tuning started for catboost\n"
     ]
    },
    {
     "name": "stdout",
     "output_type": "stream",
     "text": [
      "{'Linear Regression': 0.3954290484659, 'Lasso': 0.3954498841925457, 'Ridge': 0.3954298615428563, 'K-Neighbors Regressor': 0.8541628375503538, 'Decision Tree': 0.9872829388316675, 'Random Forest Regressor': 0.983485112554469, 'XGBRegressor': 0.9670367466068637, 'CatBoosting Regressor': 0.9537768722732313, 'GradientBoosting Regressor': 0.8302342163747802, 'AdaBoost Regressor': 0.2731788657871862}\n",
      "\n",
      "====================================================================================\n",
      "\n",
      "Best Model Found , Model Name : Decision Tree , R2 Score : 0.9872829388316675\n",
      "\n",
      "====================================================================================\n",
      "\n"
     ]
    },
    {
     "name": "stderr",
     "output_type": "stream",
     "text": [
      "2023-09-27 04:18:37,560 - INFO - Hyperparameter tuning complete for Catboost\n",
      "2023-09-27 04:18:37,561 - INFO - Hyperparameter tuning started for KNN\n"
     ]
    },
    {
     "name": "stdout",
     "output_type": "stream",
     "text": [
      "Best Catboost parameters : {'learning_rate': 0.04, 'iterations': 600, 'depth': 9}\n",
      "Best Catboost Score : 0.9501775120270196\n",
      "\n",
      "====================================================================================\n",
      "\n"
     ]
    },
    {
     "name": "stderr",
     "output_type": "stream",
     "text": [
      "2023-09-27 04:20:19,632 - INFO - Hyperparameter tuning Complete for KNN\n",
      "2023-09-27 04:20:19,634 - INFO - Voting Regressor model training started\n"
     ]
    },
    {
     "name": "stdout",
     "output_type": "stream",
     "text": [
      "Best KNN Parameters : {'n_neighbors': 2}\n",
      "Best KNN Score : 0.929448041113063\n",
      "\n",
      "====================================================================================\n",
      "\n",
      "Final Model Evaluation :\n",
      "\n"
     ]
    },
    {
     "name": "stderr",
     "output_type": "stream",
     "text": [
      "2023-09-27 04:20:38,920 - INFO - Voting Regressor Training Completed\n",
      "2023-09-27 04:20:39,071 - INFO - Model pickle file saved\n"
     ]
    },
    {
     "name": "stdout",
     "output_type": "stream",
     "text": [
      "Model performance for Training set\n",
      "- Root Mean Squared Error: 696.1546\n",
      "- Mean Absolute Error: 417.8627\n",
      "- R2 Score: 0.9776\n",
      "----------------------------------\n",
      "Model performance for Test set\n",
      "- Root Mean Squared Error: 791.1942\n",
      "- Mean Absolute Error: 479.8558\n",
      "- R2 Score: 0.9685\n"
     ]
    },
    {
     "name": "stderr",
     "output_type": "stream",
     "text": [
      "2023-09-27 04:20:40,012 - INFO - Test MAE : 479.85577155209876\n",
      "2023-09-27 04:20:40,014 - INFO - Test RMSE : 791.1942399326281\n",
      "2023-09-27 04:20:40,016 - INFO - Test R2 Score : 0.9684960291662228\n",
      "2023-09-27 04:20:40,018 - INFO - Final Model Training Completed\n"
     ]
    }
   ],
   "source": [
    "try:\n",
    "    config = ConfigurationManager()\n",
    "    model_trainer_config = config.get_model_trainer_config()\n",
    "    data_transformation = DataTransformation(model_trainer_config)\n",
    "    train_arr, test_arr, _ = data_transformation.initiate_data_transformation()\n",
    "\n",
    "    model_trainer = ModelTrainer(model_trainer_config)\n",
    "    model_trainer.initiate_model_trainer(train_arr, test_arr)\n",
    "except Exception as e:\n",
    "    raise e\n"
   ]
  },
  {
   "cell_type": "code",
   "execution_count": 10,
   "id": "791aa7a4",
   "metadata": {},
   "outputs": [],
   "source": [
    "import pickle\n",
    "import pandas as pd"
   ]
  },
  {
   "cell_type": "code",
   "execution_count": null,
   "id": "320325bc",
   "metadata": {},
   "outputs": [],
   "source": [
    "file_path = "
   ]
  },
  {
   "cell_type": "code",
   "execution_count": 11,
   "id": "5faacba1",
   "metadata": {},
   "outputs": [],
   "source": [
    "with open('artifacts/model_trainer/model.pkl', 'rb') as file:\n",
    "    data = pickle.load(file)"
   ]
  },
  {
   "cell_type": "code",
   "execution_count": 21,
   "id": "026eeed6",
   "metadata": {},
   "outputs": [
    {
     "ename": "ParserError",
     "evalue": "Error tokenizing data. C error: Expected 19 fields in line 3, saw 23\n",
     "output_type": "error",
     "traceback": [
      "\u001b[1;31m---------------------------------------------------------------------------\u001b[0m",
      "\u001b[1;31mParserError\u001b[0m                               Traceback (most recent call last)",
      "\u001b[1;32mc:\\Users\\PASCAL\\flight_price_prediction\\research\\04_data_modelling.ipynb Cell 14\u001b[0m line \u001b[0;36m4\n\u001b[0;32m     <a href='vscode-notebook-cell:/c%3A/Users/PASCAL/flight_price_prediction/research/04_data_modelling.ipynb#X16sZmlsZQ%3D%3D?line=46'>47</a>\u001b[0m delimiter \u001b[39m=\u001b[39m \u001b[39mr\u001b[39m\u001b[39m'\u001b[39m\u001b[39m\\\u001b[39m\u001b[39ms+\u001b[39m\u001b[39m'\u001b[39m\n\u001b[0;32m     <a href='vscode-notebook-cell:/c%3A/Users/PASCAL/flight_price_prediction/research/04_data_modelling.ipynb#X16sZmlsZQ%3D%3D?line=47'>48</a>\u001b[0m \u001b[39m# Create a DataFrame from the tabular data\u001b[39;00m\n\u001b[1;32m---> <a href='vscode-notebook-cell:/c%3A/Users/PASCAL/flight_price_prediction/research/04_data_modelling.ipynb#X16sZmlsZQ%3D%3D?line=48'>49</a>\u001b[0m df \u001b[39m=\u001b[39m pd\u001b[39m.\u001b[39;49mread_csv(StringIO(tabular_data_text), sep\u001b[39m=\u001b[39;49mdelimiter)\n\u001b[0;32m     <a href='vscode-notebook-cell:/c%3A/Users/PASCAL/flight_price_prediction/research/04_data_modelling.ipynb#X16sZmlsZQ%3D%3D?line=50'>51</a>\u001b[0m \u001b[39m# Display the DataFrame\u001b[39;00m\n\u001b[0;32m     <a href='vscode-notebook-cell:/c%3A/Users/PASCAL/flight_price_prediction/research/04_data_modelling.ipynb#X16sZmlsZQ%3D%3D?line=51'>52</a>\u001b[0m \u001b[39mprint\u001b[39m(df)\n",
      "File \u001b[1;32mc:\\Users\\PASCAL\\anaconda3\\envs\\flight\\lib\\site-packages\\pandas\\io\\parsers\\readers.py:912\u001b[0m, in \u001b[0;36mread_csv\u001b[1;34m(filepath_or_buffer, sep, delimiter, header, names, index_col, usecols, dtype, engine, converters, true_values, false_values, skipinitialspace, skiprows, skipfooter, nrows, na_values, keep_default_na, na_filter, verbose, skip_blank_lines, parse_dates, infer_datetime_format, keep_date_col, date_parser, date_format, dayfirst, cache_dates, iterator, chunksize, compression, thousands, decimal, lineterminator, quotechar, quoting, doublequote, escapechar, comment, encoding, encoding_errors, dialect, on_bad_lines, delim_whitespace, low_memory, memory_map, float_precision, storage_options, dtype_backend)\u001b[0m\n\u001b[0;32m    899\u001b[0m kwds_defaults \u001b[39m=\u001b[39m _refine_defaults_read(\n\u001b[0;32m    900\u001b[0m     dialect,\n\u001b[0;32m    901\u001b[0m     delimiter,\n\u001b[1;32m   (...)\u001b[0m\n\u001b[0;32m    908\u001b[0m     dtype_backend\u001b[39m=\u001b[39mdtype_backend,\n\u001b[0;32m    909\u001b[0m )\n\u001b[0;32m    910\u001b[0m kwds\u001b[39m.\u001b[39mupdate(kwds_defaults)\n\u001b[1;32m--> 912\u001b[0m \u001b[39mreturn\u001b[39;00m _read(filepath_or_buffer, kwds)\n",
      "File \u001b[1;32mc:\\Users\\PASCAL\\anaconda3\\envs\\flight\\lib\\site-packages\\pandas\\io\\parsers\\readers.py:583\u001b[0m, in \u001b[0;36m_read\u001b[1;34m(filepath_or_buffer, kwds)\u001b[0m\n\u001b[0;32m    580\u001b[0m     \u001b[39mreturn\u001b[39;00m parser\n\u001b[0;32m    582\u001b[0m \u001b[39mwith\u001b[39;00m parser:\n\u001b[1;32m--> 583\u001b[0m     \u001b[39mreturn\u001b[39;00m parser\u001b[39m.\u001b[39;49mread(nrows)\n",
      "File \u001b[1;32mc:\\Users\\PASCAL\\anaconda3\\envs\\flight\\lib\\site-packages\\pandas\\io\\parsers\\readers.py:1704\u001b[0m, in \u001b[0;36mTextFileReader.read\u001b[1;34m(self, nrows)\u001b[0m\n\u001b[0;32m   1697\u001b[0m nrows \u001b[39m=\u001b[39m validate_integer(\u001b[39m\"\u001b[39m\u001b[39mnrows\u001b[39m\u001b[39m\"\u001b[39m, nrows)\n\u001b[0;32m   1698\u001b[0m \u001b[39mtry\u001b[39;00m:\n\u001b[0;32m   1699\u001b[0m     \u001b[39m# error: \"ParserBase\" has no attribute \"read\"\u001b[39;00m\n\u001b[0;32m   1700\u001b[0m     (\n\u001b[0;32m   1701\u001b[0m         index,\n\u001b[0;32m   1702\u001b[0m         columns,\n\u001b[0;32m   1703\u001b[0m         col_dict,\n\u001b[1;32m-> 1704\u001b[0m     ) \u001b[39m=\u001b[39m \u001b[39mself\u001b[39;49m\u001b[39m.\u001b[39;49m_engine\u001b[39m.\u001b[39;49mread(  \u001b[39m# type: ignore[attr-defined]\u001b[39;49;00m\n\u001b[0;32m   1705\u001b[0m         nrows\n\u001b[0;32m   1706\u001b[0m     )\n\u001b[0;32m   1707\u001b[0m \u001b[39mexcept\u001b[39;00m \u001b[39mException\u001b[39;00m:\n\u001b[0;32m   1708\u001b[0m     \u001b[39mself\u001b[39m\u001b[39m.\u001b[39mclose()\n",
      "File \u001b[1;32mc:\\Users\\PASCAL\\anaconda3\\envs\\flight\\lib\\site-packages\\pandas\\io\\parsers\\c_parser_wrapper.py:234\u001b[0m, in \u001b[0;36mCParserWrapper.read\u001b[1;34m(self, nrows)\u001b[0m\n\u001b[0;32m    232\u001b[0m \u001b[39mtry\u001b[39;00m:\n\u001b[0;32m    233\u001b[0m     \u001b[39mif\u001b[39;00m \u001b[39mself\u001b[39m\u001b[39m.\u001b[39mlow_memory:\n\u001b[1;32m--> 234\u001b[0m         chunks \u001b[39m=\u001b[39m \u001b[39mself\u001b[39;49m\u001b[39m.\u001b[39;49m_reader\u001b[39m.\u001b[39;49mread_low_memory(nrows)\n\u001b[0;32m    235\u001b[0m         \u001b[39m# destructive to chunks\u001b[39;00m\n\u001b[0;32m    236\u001b[0m         data \u001b[39m=\u001b[39m _concatenate_chunks(chunks)\n",
      "File \u001b[1;32mc:\\Users\\PASCAL\\anaconda3\\envs\\flight\\lib\\site-packages\\pandas\\_libs\\parsers.pyx:814\u001b[0m, in \u001b[0;36mpandas._libs.parsers.TextReader.read_low_memory\u001b[1;34m()\u001b[0m\n",
      "File \u001b[1;32mc:\\Users\\PASCAL\\anaconda3\\envs\\flight\\lib\\site-packages\\pandas\\_libs\\parsers.pyx:875\u001b[0m, in \u001b[0;36mpandas._libs.parsers.TextReader._read_rows\u001b[1;34m()\u001b[0m\n",
      "File \u001b[1;32mc:\\Users\\PASCAL\\anaconda3\\envs\\flight\\lib\\site-packages\\pandas\\_libs\\parsers.pyx:850\u001b[0m, in \u001b[0;36mpandas._libs.parsers.TextReader._tokenize_rows\u001b[1;34m()\u001b[0m\n",
      "File \u001b[1;32mc:\\Users\\PASCAL\\anaconda3\\envs\\flight\\lib\\site-packages\\pandas\\_libs\\parsers.pyx:861\u001b[0m, in \u001b[0;36mpandas._libs.parsers.TextReader._check_tokenize_status\u001b[1;34m()\u001b[0m\n",
      "File \u001b[1;32mc:\\Users\\PASCAL\\anaconda3\\envs\\flight\\lib\\site-packages\\pandas\\_libs\\parsers.pyx:2029\u001b[0m, in \u001b[0;36mpandas._libs.parsers.raise_parser_error\u001b[1;34m()\u001b[0m\n",
      "\u001b[1;31mParserError\u001b[0m: Error tokenizing data. C error: Expected 19 fields in line 3, saw 23\n"
     ]
    }
   ],
   "source": [
    "import pandas as pd\n",
    "import re\n",
    "from io import StringIO\n",
    "\n",
    "# Your log text\n",
    "log_text = \"\"\"\n",
    "2023-09-27 04:15:35,928 - INFO - yaml file: config\\config.yaml loaded successfully\n",
    "# ... (other log messages)\n",
    "2023-09-27 04:15:36,156 - INFO - Train Dataframe Head : \n",
    "       Airline   Source Destination                        Route Total_Stops Additional_Info  Price  Journey_day  Journey_month  Dep_hour  Dep_min  Arrival_hour  Arrival_min  Duration_hours  Duration_mins\n",
    "0       IndiGo  Kolkata    Banglore                    CCU → BLR    non-stop         No info   4174           18              4        21       25             0            5               2             40\n",
    "1  Jet Airways    Delhi      Cochin              DEL → BOM → COK      1 stop         No info  14714           27              6         7        5            12           35               5             30\n",
    "2     Air Asia  Kolkata    Banglore              CCU → BBI → BLR      1 stop         No info   5162            9              5         6       50            10           30               3             40\n",
    "# ... (more rows)\n",
    "2023-09-27 04:15:36,166 - INFO - Test Dataframe Head  : \n",
    "             Airline   Source Destination                  Route Total_Stops              Additional_Info  Price  Journey_day  Journey_month  Dep_hour  Dep_min  Arrival_hour  Arrival_min  Duration_hours  Duration_mins\n",
    "0  Multiple carriers    Delhi      Cochin        DEL → BOM → COK      1 stop                      No info   7670           15              5         6        0            21            0              15              0\n",
    "1        Jet Airways  Kolkata    Banglore        CCU → DEL → BLR      1 stop                      No info  14151            1              5        20       25            22            5              25             40\n",
    "2             IndiGo   Mumbai   Hyderabad              BOM → HYD    non-stop                      No info   2754            1              5        19        5            20           35               1             30\n",
    "# ... (more rows)\n",
    "\"\"\"\n",
    "\n",
    "# Split the log text into lines\n",
    "log_lines = log_text.split('\\n')\n",
    "\n",
    "# Initialize a list to store the lines of tabular data\n",
    "tabular_data = []\n",
    "\n",
    "# Flag to indicate whether we are inside the tabular data section\n",
    "inside_tabular_data = False\n",
    "\n",
    "# Iterate through the log lines\n",
    "for line in log_lines:\n",
    "    if \"Train Dataframe Head :\" in line:\n",
    "        inside_tabular_data = True\n",
    "        continue  # Skip the header line\n",
    "    elif \"Test Dataframe Head  :\" in line:\n",
    "        inside_tabular_data = False\n",
    "        continue  # Skip the header line\n",
    "    elif inside_tabular_data and line.strip():\n",
    "        tabular_data.append(line)\n",
    "\n",
    "# Join the tabular data lines to form a single string\n",
    "tabular_data_text = '\\n'.join(tabular_data)\n",
    "\n",
    "# Use regular expression to split on multiple spaces\n",
    "delimiter = r'\\s+'\n",
    "# Create a DataFrame from the tabular data\n",
    "df = pd.read_csv(StringIO(tabular_data_text), sep=delimiter)\n",
    "\n",
    "# Display the DataFrame\n",
    "print(df)\n"
   ]
  },
  {
   "cell_type": "code",
   "execution_count": null,
   "id": "c39b7f86",
   "metadata": {},
   "outputs": [],
   "source": []
  }
 ],
 "metadata": {
  "kernelspec": {
   "display_name": "Python 3 (ipykernel)",
   "language": "python",
   "name": "python3"
  },
  "language_info": {
   "codemirror_mode": {
    "name": "ipython",
    "version": 3
   },
   "file_extension": ".py",
   "mimetype": "text/x-python",
   "name": "python",
   "nbconvert_exporter": "python",
   "pygments_lexer": "ipython3",
   "version": "3.9.0"
  }
 },
 "nbformat": 4,
 "nbformat_minor": 5
}
